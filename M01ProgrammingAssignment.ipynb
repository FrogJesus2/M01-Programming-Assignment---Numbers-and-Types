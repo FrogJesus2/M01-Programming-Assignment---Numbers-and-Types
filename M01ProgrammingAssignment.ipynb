{
 "cells": [
  {
   "cell_type": "code",
   "execution_count": 13,
   "id": "ed1e370b-a224-4d68-a8a9-b6fb7c1e90b5",
   "metadata": {},
   "outputs": [
    {
     "name": "stdout",
     "output_type": "stream",
     "text": [
      "24\n"
     ]
    }
   ],
   "source": [
    "seconds_per_minute = 60\n",
    "minutes_per_hour = 60\n",
    "seconds_per_hour = seconds_per_minute * minutes_per_hour\n",
    "# 3.1 and 3.2\n",
    "# this tells you how many seconds are in an hour with the answer being: 3600\n",
    "# uncomment the print function below to see answer\n",
    "# print(seconds_per_hour)\n",
    "day = 24\n",
    "seconds_per_day = seconds_per_hour * day\n",
    "# 3.3 and 3.4\n",
    "# this line of code gives you the seconds per day by using seconds per hour multiplied by number of hours in the day: 86400\n",
    "# uncomment to test the answer given above\n",
    "# print(seconds_per_day)\n",
    "hours_in_day = seconds_per_day / seconds_per_hour\n",
    "# 3.5 \n",
    "# hours_in_day divides seconds_per_day and seconds_per_hour and gives you a floating point number which is of course: 24.0\n",
    "# uncomment to test the answer given above\n",
    "# print(hour_in_day)\n",
    "hours_in_day_2 = seconds_per_day // seconds_per_hour\n",
    "# 3.6 \n",
    "# this gives you the same answer as the first hours_in_day, but without the decimal and 0 after: 24\n",
    "# uncomment to test the answer given above\n",
    "# print(hours_in_day_2)"
   ]
  },
  {
   "cell_type": "code",
   "execution_count": null,
   "id": "929b52da-2c86-4c5b-83e2-a6c006988839",
   "metadata": {},
   "outputs": [],
   "source": []
  }
 ],
 "metadata": {
  "kernelspec": {
   "display_name": "Python 3 (ipykernel)",
   "language": "python",
   "name": "python3"
  },
  "language_info": {
   "codemirror_mode": {
    "name": "ipython",
    "version": 3
   },
   "file_extension": ".py",
   "mimetype": "text/x-python",
   "name": "python",
   "nbconvert_exporter": "python",
   "pygments_lexer": "ipython3",
   "version": "3.11.7"
  }
 },
 "nbformat": 4,
 "nbformat_minor": 5
}
